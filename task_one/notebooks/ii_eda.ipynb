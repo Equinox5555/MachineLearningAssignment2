{
 "cells": [
  {
   "attachments": {},
   "cell_type": "markdown",
   "metadata": {},
   "source": [
    "Exploratory Data Analysis:\n",
    "\n",
    "- Load and visualize the data to get a better understanding of the distribution of the different cell types and isCancerous labels.\n",
    "- Identify and handle any missing or invalid data points.\n",
    "- Analyze the correlation between different features to identify any patterns."
   ]
  },
  {
   "cell_type": "code",
   "execution_count": null,
   "metadata": {},
   "outputs": [],
   "source": []
  }
 ],
 "metadata": {
  "language_info": {
   "name": "python"
  },
  "orig_nbformat": 4
 },
 "nbformat": 4,
 "nbformat_minor": 2
}
