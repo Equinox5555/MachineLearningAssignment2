{
 "cells": [
  {
   "cell_type": "markdown",
   "metadata": {},
   "source": [
    "Model Evaluation and Comparison:\n",
    "\n",
    "- Use different evaluation metrics such as accuracy, precision, recall, and F1-score to assess the performance of the models.\n",
    "- Compare the performance of the different models on both tasks, isCancerous and cell-type classification.\n",
    "- Explore the use of the extra data provided in the Dataset_extra to improve the performance of the cell-type classification model and compare the results with the model trained on the main dataset."
   ]
  },
  {
   "cell_type": "markdown",
   "metadata": {},
   "source": [
    "Visualization:\n",
    "- Visualize the classification results using confusion matrices, ROC curves, and precision-recall curves.\n",
    "- Use activation maps or saliency maps to visualize the regions of the images that are important for the classification decision."
   ]
  },
  {
   "cell_type": "code",
   "execution_count": 95,
   "metadata": {},
   "outputs": [],
   "source": [
    "import sys\n",
    "\n",
    "from sklearn.metrics import accuracy_score, confusion_matrix, ConfusionMatrixDisplay\n",
    "from sklearn.model_selection import train_test_split\n",
    "\n",
    "import pandas as pd\n",
    "import numpy as np\n",
    "import matplotlib.pyplot as plt\n",
    "import seaborn as sns\n",
    "\n",
    "import tensorflow as tf\n",
    "from tensorflow import keras\n",
    "from tensorflow.keras.preprocessing.image import ImageDataGenerator\n",
    "AUTOTUNE = tf.data.experimental.AUTOTUNE\n",
    "\n",
    "from sklearn import svm\n",
    "from sklearn.tree import DecisionTreeClassifier\n",
    "from sklearn.model_selection import GridSearchCV, RandomizedSearchCV\n",
    "from skimage.transform import resize\n",
    "from skimage.io import imread\n",
    "\n",
    "import cv2\n",
    "\n",
    "import matplotlib.pyplot as plt\n",
    "\n",
    "import os\n",
    "\n",
    "sys.path.append('../../src')"
   ]
  },
  {
   "cell_type": "markdown",
   "metadata": {},
   "source": [
    "# Data Preprocessing"
   ]
  },
  {
   "cell_type": "markdown",
   "metadata": {},
   "source": [
    "To check if all images really have a consistent width and height:"
   ]
  },
  {
   "cell_type": "code",
   "execution_count": 41,
   "metadata": {},
   "outputs": [
    {
     "name": "stdout",
     "output_type": "stream",
     "text": [
      "{(27, 27, 3)}\n"
     ]
    }
   ],
   "source": [
    "image_paths = [os.path.join(image_folder, filename) for filename in os.listdir(image_folder)]\n",
    "\n",
    "resolutions = set()\n",
    "\n",
    "for i, image_path in enumerate(image_paths):\n",
    "    im = cv2.imread(image_path)\n",
    "    resolutions.add(im.shape)\n",
    "    \n",
    "print(resolutions)"
   ]
  },
  {
   "cell_type": "markdown",
   "metadata": {},
   "source": [
    "Since all images have the same resolution, no rescaling, shifting or rotating operation needs to be done."
   ]
  },
  {
   "cell_type": "code",
   "execution_count": 4,
   "metadata": {},
   "outputs": [],
   "source": [
    "dataset_main = pd.read_csv(\"../data/raw/data_labels_mainData.csv\")\n",
    "dataset_extra = pd.read_csv(\"../data/raw/data_labels_extraData.csv\")"
   ]
  },
  {
   "cell_type": "code",
   "execution_count": 5,
   "metadata": {},
   "outputs": [],
   "source": [
    "image_folder = \"../data/raw/patch_images\"\n",
    "\n",
    "images = []\n",
    "# Todo - Cannot find normalisation in skimage\n",
    "\n",
    "for img in range(len(dataset_main)):\n",
    "    img_array=imread(os.path.join(image_folder, str(dataset_main['ImageName'][img])))\n",
    "    # Convert multi-dimensional array into 1D array\n",
    "    img_array = img_array.flatten()\n",
    "    # Convert to float for normalisation\n",
    "    img_array = img_array.astype(float)\n",
    "    for i in range(len(img_array)):\n",
    "        # Normalise\n",
    "        img_array[i] = img_array[i]/255\n",
    "    images.append(img_array.flatten())\n",
    "    \n",
    "\n",
    "# print(images)"
   ]
  },
  {
   "cell_type": "code",
   "execution_count": 6,
   "metadata": {},
   "outputs": [
    {
     "data": {
      "text/html": [
       "<div>\n",
       "<style scoped>\n",
       "    .dataframe tbody tr th:only-of-type {\n",
       "        vertical-align: middle;\n",
       "    }\n",
       "\n",
       "    .dataframe tbody tr th {\n",
       "        vertical-align: top;\n",
       "    }\n",
       "\n",
       "    .dataframe thead th {\n",
       "        text-align: right;\n",
       "    }\n",
       "</style>\n",
       "<table border=\"1\" class=\"dataframe\">\n",
       "  <thead>\n",
       "    <tr style=\"text-align: right;\">\n",
       "      <th></th>\n",
       "      <th>0</th>\n",
       "      <th>1</th>\n",
       "      <th>2</th>\n",
       "      <th>3</th>\n",
       "      <th>4</th>\n",
       "      <th>5</th>\n",
       "      <th>6</th>\n",
       "      <th>7</th>\n",
       "      <th>8</th>\n",
       "      <th>9</th>\n",
       "      <th>...</th>\n",
       "      <th>2177</th>\n",
       "      <th>2178</th>\n",
       "      <th>2179</th>\n",
       "      <th>2180</th>\n",
       "      <th>2181</th>\n",
       "      <th>2182</th>\n",
       "      <th>2183</th>\n",
       "      <th>2184</th>\n",
       "      <th>2185</th>\n",
       "      <th>2186</th>\n",
       "    </tr>\n",
       "  </thead>\n",
       "  <tbody>\n",
       "    <tr>\n",
       "      <th>0</th>\n",
       "      <td>0.949020</td>\n",
       "      <td>0.835294</td>\n",
       "      <td>0.929412</td>\n",
       "      <td>0.937255</td>\n",
       "      <td>0.819608</td>\n",
       "      <td>0.913725</td>\n",
       "      <td>0.921569</td>\n",
       "      <td>0.803922</td>\n",
       "      <td>0.898039</td>\n",
       "      <td>0.913725</td>\n",
       "      <td>...</td>\n",
       "      <td>0.874510</td>\n",
       "      <td>0.788235</td>\n",
       "      <td>0.592157</td>\n",
       "      <td>0.760784</td>\n",
       "      <td>0.709804</td>\n",
       "      <td>0.517647</td>\n",
       "      <td>0.686275</td>\n",
       "      <td>0.764706</td>\n",
       "      <td>0.576471</td>\n",
       "      <td>0.745098</td>\n",
       "    </tr>\n",
       "    <tr>\n",
       "      <th>1</th>\n",
       "      <td>0.866667</td>\n",
       "      <td>0.686275</td>\n",
       "      <td>0.827451</td>\n",
       "      <td>0.878431</td>\n",
       "      <td>0.686275</td>\n",
       "      <td>0.827451</td>\n",
       "      <td>0.913725</td>\n",
       "      <td>0.721569</td>\n",
       "      <td>0.858824</td>\n",
       "      <td>0.901961</td>\n",
       "      <td>...</td>\n",
       "      <td>0.937255</td>\n",
       "      <td>0.941176</td>\n",
       "      <td>0.811765</td>\n",
       "      <td>0.905882</td>\n",
       "      <td>0.968627</td>\n",
       "      <td>0.835294</td>\n",
       "      <td>0.933333</td>\n",
       "      <td>0.992157</td>\n",
       "      <td>0.858824</td>\n",
       "      <td>0.956863</td>\n",
       "    </tr>\n",
       "    <tr>\n",
       "      <th>2</th>\n",
       "      <td>0.968627</td>\n",
       "      <td>0.952941</td>\n",
       "      <td>0.968627</td>\n",
       "      <td>0.972549</td>\n",
       "      <td>0.949020</td>\n",
       "      <td>0.964706</td>\n",
       "      <td>0.968627</td>\n",
       "      <td>0.937255</td>\n",
       "      <td>0.956863</td>\n",
       "      <td>0.960784</td>\n",
       "      <td>...</td>\n",
       "      <td>0.619608</td>\n",
       "      <td>0.635294</td>\n",
       "      <td>0.419608</td>\n",
       "      <td>0.686275</td>\n",
       "      <td>0.745098</td>\n",
       "      <td>0.529412</td>\n",
       "      <td>0.784314</td>\n",
       "      <td>0.745098</td>\n",
       "      <td>0.529412</td>\n",
       "      <td>0.764706</td>\n",
       "    </tr>\n",
       "    <tr>\n",
       "      <th>3</th>\n",
       "      <td>0.952941</td>\n",
       "      <td>0.949020</td>\n",
       "      <td>0.949020</td>\n",
       "      <td>0.952941</td>\n",
       "      <td>0.945098</td>\n",
       "      <td>0.945098</td>\n",
       "      <td>0.952941</td>\n",
       "      <td>0.945098</td>\n",
       "      <td>0.945098</td>\n",
       "      <td>0.952941</td>\n",
       "      <td>...</td>\n",
       "      <td>0.949020</td>\n",
       "      <td>0.949020</td>\n",
       "      <td>0.827451</td>\n",
       "      <td>0.956863</td>\n",
       "      <td>0.972549</td>\n",
       "      <td>0.854902</td>\n",
       "      <td>0.988235</td>\n",
       "      <td>0.847059</td>\n",
       "      <td>0.729412</td>\n",
       "      <td>0.866667</td>\n",
       "    </tr>\n",
       "    <tr>\n",
       "      <th>4</th>\n",
       "      <td>0.741176</td>\n",
       "      <td>0.509804</td>\n",
       "      <td>0.741176</td>\n",
       "      <td>0.729412</td>\n",
       "      <td>0.494118</td>\n",
       "      <td>0.721569</td>\n",
       "      <td>0.733333</td>\n",
       "      <td>0.494118</td>\n",
       "      <td>0.717647</td>\n",
       "      <td>0.745098</td>\n",
       "      <td>...</td>\n",
       "      <td>0.941176</td>\n",
       "      <td>0.952941</td>\n",
       "      <td>0.937255</td>\n",
       "      <td>0.945098</td>\n",
       "      <td>0.956863</td>\n",
       "      <td>0.937255</td>\n",
       "      <td>0.949020</td>\n",
       "      <td>0.956863</td>\n",
       "      <td>0.941176</td>\n",
       "      <td>0.956863</td>\n",
       "    </tr>\n",
       "    <tr>\n",
       "      <th>...</th>\n",
       "      <td>...</td>\n",
       "      <td>...</td>\n",
       "      <td>...</td>\n",
       "      <td>...</td>\n",
       "      <td>...</td>\n",
       "      <td>...</td>\n",
       "      <td>...</td>\n",
       "      <td>...</td>\n",
       "      <td>...</td>\n",
       "      <td>...</td>\n",
       "      <td>...</td>\n",
       "      <td>...</td>\n",
       "      <td>...</td>\n",
       "      <td>...</td>\n",
       "      <td>...</td>\n",
       "      <td>...</td>\n",
       "      <td>...</td>\n",
       "      <td>...</td>\n",
       "      <td>...</td>\n",
       "      <td>...</td>\n",
       "      <td>...</td>\n",
       "    </tr>\n",
       "    <tr>\n",
       "      <th>9891</th>\n",
       "      <td>0.670588</td>\n",
       "      <td>0.541176</td>\n",
       "      <td>0.705882</td>\n",
       "      <td>0.850980</td>\n",
       "      <td>0.729412</td>\n",
       "      <td>0.894118</td>\n",
       "      <td>0.988235</td>\n",
       "      <td>0.878431</td>\n",
       "      <td>1.000000</td>\n",
       "      <td>0.866667</td>\n",
       "      <td>...</td>\n",
       "      <td>0.772549</td>\n",
       "      <td>0.776471</td>\n",
       "      <td>0.631373</td>\n",
       "      <td>0.811765</td>\n",
       "      <td>0.776471</td>\n",
       "      <td>0.647059</td>\n",
       "      <td>0.811765</td>\n",
       "      <td>0.921569</td>\n",
       "      <td>0.803922</td>\n",
       "      <td>0.905882</td>\n",
       "    </tr>\n",
       "    <tr>\n",
       "      <th>9892</th>\n",
       "      <td>0.831373</td>\n",
       "      <td>0.678431</td>\n",
       "      <td>0.894118</td>\n",
       "      <td>0.725490</td>\n",
       "      <td>0.568627</td>\n",
       "      <td>0.811765</td>\n",
       "      <td>0.643137</td>\n",
       "      <td>0.486275</td>\n",
       "      <td>0.713725</td>\n",
       "      <td>0.713725</td>\n",
       "      <td>...</td>\n",
       "      <td>0.901961</td>\n",
       "      <td>0.901961</td>\n",
       "      <td>0.800000</td>\n",
       "      <td>0.894118</td>\n",
       "      <td>0.894118</td>\n",
       "      <td>0.788235</td>\n",
       "      <td>0.886275</td>\n",
       "      <td>0.929412</td>\n",
       "      <td>0.823529</td>\n",
       "      <td>0.925490</td>\n",
       "    </tr>\n",
       "    <tr>\n",
       "      <th>9893</th>\n",
       "      <td>0.686275</td>\n",
       "      <td>0.552941</td>\n",
       "      <td>0.756863</td>\n",
       "      <td>0.768627</td>\n",
       "      <td>0.658824</td>\n",
       "      <td>0.819608</td>\n",
       "      <td>0.839216</td>\n",
       "      <td>0.737255</td>\n",
       "      <td>0.870588</td>\n",
       "      <td>0.901961</td>\n",
       "      <td>...</td>\n",
       "      <td>0.643137</td>\n",
       "      <td>0.662745</td>\n",
       "      <td>0.517647</td>\n",
       "      <td>0.733333</td>\n",
       "      <td>0.819608</td>\n",
       "      <td>0.694118</td>\n",
       "      <td>0.854902</td>\n",
       "      <td>0.917647</td>\n",
       "      <td>0.803922</td>\n",
       "      <td>0.945098</td>\n",
       "    </tr>\n",
       "    <tr>\n",
       "      <th>9894</th>\n",
       "      <td>0.890196</td>\n",
       "      <td>0.792157</td>\n",
       "      <td>0.909804</td>\n",
       "      <td>0.690196</td>\n",
       "      <td>0.572549</td>\n",
       "      <td>0.756863</td>\n",
       "      <td>0.717647</td>\n",
       "      <td>0.572549</td>\n",
       "      <td>0.768627</td>\n",
       "      <td>0.780392</td>\n",
       "      <td>...</td>\n",
       "      <td>0.913725</td>\n",
       "      <td>0.890196</td>\n",
       "      <td>0.760784</td>\n",
       "      <td>1.000000</td>\n",
       "      <td>0.694118</td>\n",
       "      <td>0.552941</td>\n",
       "      <td>0.792157</td>\n",
       "      <td>0.545098</td>\n",
       "      <td>0.396078</td>\n",
       "      <td>0.631373</td>\n",
       "    </tr>\n",
       "    <tr>\n",
       "      <th>9895</th>\n",
       "      <td>0.819608</td>\n",
       "      <td>0.705882</td>\n",
       "      <td>0.866667</td>\n",
       "      <td>0.988235</td>\n",
       "      <td>0.905882</td>\n",
       "      <td>1.000000</td>\n",
       "      <td>0.988235</td>\n",
       "      <td>0.945098</td>\n",
       "      <td>1.000000</td>\n",
       "      <td>0.996078</td>\n",
       "      <td>...</td>\n",
       "      <td>0.752941</td>\n",
       "      <td>0.600000</td>\n",
       "      <td>0.443137</td>\n",
       "      <td>0.682353</td>\n",
       "      <td>0.784314</td>\n",
       "      <td>0.650980</td>\n",
       "      <td>0.843137</td>\n",
       "      <td>0.905882</td>\n",
       "      <td>0.803922</td>\n",
       "      <td>0.941176</td>\n",
       "    </tr>\n",
       "  </tbody>\n",
       "</table>\n",
       "<p>9896 rows × 2187 columns</p>\n",
       "</div>"
      ],
      "text/plain": [
       "          0         1         2         3         4         5         6      \n",
       "0     0.949020  0.835294  0.929412  0.937255  0.819608  0.913725  0.921569  \\\n",
       "1     0.866667  0.686275  0.827451  0.878431  0.686275  0.827451  0.913725   \n",
       "2     0.968627  0.952941  0.968627  0.972549  0.949020  0.964706  0.968627   \n",
       "3     0.952941  0.949020  0.949020  0.952941  0.945098  0.945098  0.952941   \n",
       "4     0.741176  0.509804  0.741176  0.729412  0.494118  0.721569  0.733333   \n",
       "...        ...       ...       ...       ...       ...       ...       ...   \n",
       "9891  0.670588  0.541176  0.705882  0.850980  0.729412  0.894118  0.988235   \n",
       "9892  0.831373  0.678431  0.894118  0.725490  0.568627  0.811765  0.643137   \n",
       "9893  0.686275  0.552941  0.756863  0.768627  0.658824  0.819608  0.839216   \n",
       "9894  0.890196  0.792157  0.909804  0.690196  0.572549  0.756863  0.717647   \n",
       "9895  0.819608  0.705882  0.866667  0.988235  0.905882  1.000000  0.988235   \n",
       "\n",
       "          7         8         9     ...      2177      2178      2179   \n",
       "0     0.803922  0.898039  0.913725  ...  0.874510  0.788235  0.592157  \\\n",
       "1     0.721569  0.858824  0.901961  ...  0.937255  0.941176  0.811765   \n",
       "2     0.937255  0.956863  0.960784  ...  0.619608  0.635294  0.419608   \n",
       "3     0.945098  0.945098  0.952941  ...  0.949020  0.949020  0.827451   \n",
       "4     0.494118  0.717647  0.745098  ...  0.941176  0.952941  0.937255   \n",
       "...        ...       ...       ...  ...       ...       ...       ...   \n",
       "9891  0.878431  1.000000  0.866667  ...  0.772549  0.776471  0.631373   \n",
       "9892  0.486275  0.713725  0.713725  ...  0.901961  0.901961  0.800000   \n",
       "9893  0.737255  0.870588  0.901961  ...  0.643137  0.662745  0.517647   \n",
       "9894  0.572549  0.768627  0.780392  ...  0.913725  0.890196  0.760784   \n",
       "9895  0.945098  1.000000  0.996078  ...  0.752941  0.600000  0.443137   \n",
       "\n",
       "          2180      2181      2182      2183      2184      2185      2186  \n",
       "0     0.760784  0.709804  0.517647  0.686275  0.764706  0.576471  0.745098  \n",
       "1     0.905882  0.968627  0.835294  0.933333  0.992157  0.858824  0.956863  \n",
       "2     0.686275  0.745098  0.529412  0.784314  0.745098  0.529412  0.764706  \n",
       "3     0.956863  0.972549  0.854902  0.988235  0.847059  0.729412  0.866667  \n",
       "4     0.945098  0.956863  0.937255  0.949020  0.956863  0.941176  0.956863  \n",
       "...        ...       ...       ...       ...       ...       ...       ...  \n",
       "9891  0.811765  0.776471  0.647059  0.811765  0.921569  0.803922  0.905882  \n",
       "9892  0.894118  0.894118  0.788235  0.886275  0.929412  0.823529  0.925490  \n",
       "9893  0.733333  0.819608  0.694118  0.854902  0.917647  0.803922  0.945098  \n",
       "9894  1.000000  0.694118  0.552941  0.792157  0.545098  0.396078  0.631373  \n",
       "9895  0.682353  0.784314  0.650980  0.843137  0.905882  0.803922  0.941176  \n",
       "\n",
       "[9896 rows x 2187 columns]"
      ]
     },
     "execution_count": 6,
     "metadata": {},
     "output_type": "execute_result"
    }
   ],
   "source": [
    "image_repo = pd.DataFrame(images)\n",
    "image_repo"
   ]
  },
  {
   "cell_type": "code",
   "execution_count": 7,
   "metadata": {
    "scrolled": true
   },
   "outputs": [
    {
     "data": {
      "text/plain": [
       "<matplotlib.image.AxesImage at 0x2205adc4b20>"
      ]
     },
     "execution_count": 7,
     "metadata": {},
     "output_type": "execute_result"
    },
    {
     "data": {
      "image/png": "[encoded data removed]",
      "text/plain": [
       "<Figure size 640x480 with 1 Axes>"
      ]
     },
     "metadata": {},
     "output_type": "display_data"
    }
   ],
   "source": [
    "# To see a particular image, uncomment the code and replace the number.\n",
    "\n",
    "# plt.imshow(images[781].reshape(27, 27, 3))"
   ]
  },
  {
   "cell_type": "markdown",
   "metadata": {},
   "source": [
    "# Baseline model with Multi-layer Perceptron"
   ]
  },
  {
   "cell_type": "code",
   "execution_count": null,
   "metadata": {},
   "outputs": [],
   "source": [
    "X_train, X_test = train_test_split(dataset_main, test_size = 0.2, random_state = 1)\n",
    "X_train, X_val = train_test_split(X_train, test_size = 0.25, random_state = 1)"
   ]
  },
  {
   "cell_type": "code",
   "execution_count": null,
   "metadata": {},
   "outputs": [],
   "source": [
    "print(\"Shape of X_train:\", X_train.shape)\n",
    "print(\"Shape of X_Val:\", X_val.shape)\n",
    "print(\"Shape of X_test:\", X_test.shape)"
   ]
  },
  {
   "cell_type": "code",
   "execution_count": null,
   "metadata": {},
   "outputs": [],
   "source": [
    "X_train['isCancerous'] = X_train['isCancerous'].astype('str')\n",
    "X_val['isCancerous'] = X_val['isCancerous'].astype('str')\n",
    "X_test['isCancerous'] = X_test['isCancerous'].astype('str')"
   ]
  },
  {
   "cell_type": "code",
   "execution_count": null,
   "metadata": {},
   "outputs": [],
   "source": [
    "image_gen = ImageDataGenerator(rescale=1./255, data_format='channels_last')\n",
    "\n",
    "batch_size = 27\n",
    "\n",
    "train_generator = image_gen.flow_from_dataframe(\n",
    "        dataframe=X_train,\n",
    "        directory='../data/raw/patch_images/',\n",
    "        x_col=\"ImageName\",\n",
    "        y_col=\"isCancerous\",\n",
    "        target_size=(27, 27),\n",
    "        batch_size=batch_size,\n",
    "        class_mode='categorical')\n",
    "\n",
    "validation_generator = image_gen.flow_from_dataframe(\n",
    "        dataframe=X_val,\n",
    "        directory='../data/raw/patch_images/',\n",
    "        x_col=\"ImageName\",\n",
    "        y_col=\"isCancerous\",\n",
    "        target_size=(27, 27),\n",
    "        batch_size=batch_size,\n",
    "        class_mode='categorical')\n",
    "\n",
    "test_generator = image_gen.flow_from_dataframe(\n",
    "        dataframe=X_test,\n",
    "        directory='../data/raw/patch_images/',\n",
    "        x_col=\"ImageName\",\n",
    "        y_col=\"isCancerous\",\n",
    "        target_size=(27, 27),\n",
    "        batch_size=batch_size,\n",
    "        class_mode='categorical')"
   ]
  },
  {
   "cell_type": "code",
   "execution_count": null,
   "metadata": {},
   "outputs": [],
   "source": [
    "input_dim = (27, 27, 3)\n",
    "hidden_layer_dim = 256\n",
    "output_classes = 2"
   ]
  },
  {
   "cell_type": "code",
   "execution_count": null,
   "metadata": {},
   "outputs": [],
   "source": [
    "model = tf.keras.Sequential([\n",
    "    tf.keras.layers.Flatten(input_shape=input_dim),\n",
    "    tf.keras.layers.Dense(hidden_layer_dim, activation='sigmoid'),\n",
    "    tf.keras.layers.Dense(output_classes)\n",
    "])"
   ]
  },
  {
   "cell_type": "code",
   "execution_count": null,
   "metadata": {},
   "outputs": [],
   "source": [
    "model.summary()"
   ]
  },
  {
   "cell_type": "code",
   "execution_count": null,
   "metadata": {},
   "outputs": [],
   "source": [
    "tf.keras.utils.plot_model(model, show_shapes=True)"
   ]
  },
  {
   "cell_type": "code",
   "execution_count": null,
   "metadata": {},
   "outputs": [],
   "source": [
    "model.compile(optimizer='SGD', loss=tf.keras.losses.CategoricalCrossentropy(from_logits=True),\n",
    "              metrics=['categorical_accuracy'])"
   ]
  },
  {
   "cell_type": "code",
   "execution_count": null,
   "metadata": {},
   "outputs": [],
   "source": [
    "history = model.fit(train_generator, validation_data = validation_generator, epochs=50, verbose=0)"
   ]
  },
  {
   "cell_type": "code",
   "execution_count": null,
   "metadata": {},
   "outputs": [],
   "source": [
    "def plot_learning_curve(train_loss, val_loss, train_metric, val_metric, metric_name='Accuracy'):\n",
    "    plt.figure(figsize=(10,5))\n",
    "    \n",
    "    plt.subplot(1,2,1)\n",
    "    plt.plot(train_loss, 'r--')\n",
    "    plt.plot(val_loss, 'b--')\n",
    "    plt.xlabel(\"epochs\")\n",
    "    plt.ylabel(\"Loss\")\n",
    "    plt.legend(['train', 'val'], loc='upper left')\n",
    "\n",
    "    plt.subplot(1,2,2)\n",
    "    plt.plot(train_metric, 'r--')\n",
    "    plt.plot(val_metric, 'b--')\n",
    "    plt.xlabel(\"epochs\")\n",
    "    plt.ylabel(metric_name)\n",
    "    plt.legend(['train', 'val'], loc='upper left')\n",
    "\n",
    "    plt.show()"
   ]
  },
  {
   "cell_type": "code",
   "execution_count": null,
   "metadata": {},
   "outputs": [],
   "source": [
    "plot_learning_curve(history.history['loss'], history.history['val_loss'], \n",
    "                    history.history['categorical_accuracy'], history.history['val_categorical_accuracy'], \n",
    "                    metric_name='Accuracy')"
   ]
  },
  {
   "cell_type": "code",
   "execution_count": null,
   "metadata": {
    "scrolled": true
   },
   "outputs": [],
   "source": [
    "y_prediction = model.predict(validation_generator)\n",
    "y_prediction = np.argmax (y_prediction, axis = 1)"
   ]
  },
  {
   "cell_type": "code",
   "execution_count": null,
   "metadata": {},
   "outputs": [],
   "source": [
    "y_test = X_val['isCancerous'].to_numpy(dtype=\"int64\")"
   ]
  },
  {
   "cell_type": "code",
   "execution_count": null,
   "metadata": {},
   "outputs": [],
   "source": [
    "result = confusion_matrix(y_test, y_prediction , normalize='pred')\n",
    "print(result)"
   ]
  },
  {
   "cell_type": "code",
   "execution_count": null,
   "metadata": {
    "scrolled": false
   },
   "outputs": [],
   "source": [
    "disp = ConfusionMatrixDisplay(confusion_matrix=result, display_labels=[0, 1])\n",
    "disp.plot()\n",
    "plt.show()"
   ]
  },
  {
   "cell_type": "markdown",
   "metadata": {},
   "source": [
    "# Models"
   ]
  },
  {
   "cell_type": "markdown",
   "metadata": {},
   "source": [
    "## CNN"
   ]
  },
  {
   "cell_type": "markdown",
   "metadata": {},
   "source": [
    "To construct the model:"
   ]
  },
  {
   "cell_type": "code",
   "execution_count": null,
   "metadata": {},
   "outputs": [],
   "source": [
    "def CNN(input_dim, optimizer, metrics):\n",
    "    model = tf.keras.Sequential()\n",
    "    model.add(tf.keras.layers.Conv2D(32, (3, 3), activation='relu', input_shape=input_dim))\n",
    "    model.add(tf.keras.layers.MaxPooling2D((2, 2)))\n",
    "    model.add(tf.keras.layers.Flatten(input_shape=input_dim))\n",
    "    model.add(tf.keras.layers.Dense(100, activation='sigmoid'))\n",
    "    model.add(tf.keras.layers.Dropout(0.5))\n",
    "    model.add(tf.keras.layers.Dense(2))\n",
    "    model.compile(optimizer=optimizer, loss=tf.keras.losses.CategoricalCrossentropy(from_logits=True),\n",
    "              metrics=metrics)\n",
    "    return model"
   ]
  },
  {
   "cell_type": "code",
   "execution_count": null,
   "metadata": {},
   "outputs": [],
   "source": [
    "input_dim = (27, 27, 3)\n",
    "optimizer = 'SGD'\n",
    "metrics = ['categorical_accuracy']\n",
    "\n",
    "cnn_model = CNN(input_dim, optimizer, metrics)"
   ]
  },
  {
   "cell_type": "code",
   "execution_count": null,
   "metadata": {
    "scrolled": true
   },
   "outputs": [],
   "source": [
    "history_cnn = cnn_model.fit(train_generator, validation_data = validation_generator, epochs=50, verbose=0)"
   ]
  },
  {
   "cell_type": "code",
   "execution_count": null,
   "metadata": {},
   "outputs": [],
   "source": [
    "plot_learning_curve(history_cnn.history['loss'], history_cnn.history['val_loss'], \n",
    "                    history_cnn.history['categorical_accuracy'], history_cnn.history['val_categorical_accuracy'], \n",
    "                    metric_name='Accuracy')"
   ]
  },
  {
   "cell_type": "markdown",
   "metadata": {},
   "source": [
    "Evaluation"
   ]
  },
  {
   "cell_type": "code",
   "execution_count": null,
   "metadata": {},
   "outputs": [],
   "source": [
    "# cnn_model.evaluate(test_generator)"
   ]
  },
  {
   "cell_type": "markdown",
   "metadata": {},
   "source": [
    "## SVM"
   ]
  },
  {
   "cell_type": "code",
   "execution_count": 50,
   "metadata": {},
   "outputs": [],
   "source": [
    "X_trainCV, X_test, y_trainCV, y_test= train_test_split(image_repo, dataset_main['isCancerous'], test_size = 0.2, random_state = 1)\n",
    "X_train, X_val, y_train, y_val= train_test_split(X_trainCV, y_trainCV, test_size = 0.25, random_state = 1)"
   ]
  },
  {
   "cell_type": "code",
   "execution_count": 9,
   "metadata": {
    "scrolled": true
   },
   "outputs": [
    {
     "data": {
      "text/html": [
       "<div>\n",
       "<style scoped>\n",
       "    .dataframe tbody tr th:only-of-type {\n",
       "        vertical-align: middle;\n",
       "    }\n",
       "\n",
       "    .dataframe tbody tr th {\n",
       "        vertical-align: top;\n",
       "    }\n",
       "\n",
       "    .dataframe thead th {\n",
       "        text-align: right;\n",
       "    }\n",
       "</style>\n",
       "<table border=\"1\" class=\"dataframe\">\n",
       "  <thead>\n",
       "    <tr style=\"text-align: right;\">\n",
       "      <th></th>\n",
       "      <th>0</th>\n",
       "      <th>1</th>\n",
       "      <th>2</th>\n",
       "      <th>3</th>\n",
       "      <th>4</th>\n",
       "      <th>5</th>\n",
       "      <th>6</th>\n",
       "      <th>7</th>\n",
       "      <th>8</th>\n",
       "      <th>9</th>\n",
       "      <th>...</th>\n",
       "      <th>2177</th>\n",
       "      <th>2178</th>\n",
       "      <th>2179</th>\n",
       "      <th>2180</th>\n",
       "      <th>2181</th>\n",
       "      <th>2182</th>\n",
       "      <th>2183</th>\n",
       "      <th>2184</th>\n",
       "      <th>2185</th>\n",
       "      <th>2186</th>\n",
       "    </tr>\n",
       "  </thead>\n",
       "  <tbody>\n",
       "    <tr>\n",
       "      <th>7364</th>\n",
       "      <td>0.964706</td>\n",
       "      <td>0.843137</td>\n",
       "      <td>0.984314</td>\n",
       "      <td>0.898039</td>\n",
       "      <td>0.780392</td>\n",
       "      <td>0.905882</td>\n",
       "      <td>0.850980</td>\n",
       "      <td>0.741176</td>\n",
       "      <td>0.862745</td>\n",
       "      <td>0.874510</td>\n",
       "      <td>...</td>\n",
       "      <td>0.776471</td>\n",
       "      <td>0.874510</td>\n",
       "      <td>0.729412</td>\n",
       "      <td>0.878431</td>\n",
       "      <td>0.964706</td>\n",
       "      <td>0.807843</td>\n",
       "      <td>0.968627</td>\n",
       "      <td>0.901961</td>\n",
       "      <td>0.733333</td>\n",
       "      <td>0.898039</td>\n",
       "    </tr>\n",
       "    <tr>\n",
       "      <th>5723</th>\n",
       "      <td>0.913725</td>\n",
       "      <td>0.674510</td>\n",
       "      <td>0.882353</td>\n",
       "      <td>0.858824</td>\n",
       "      <td>0.603922</td>\n",
       "      <td>0.823529</td>\n",
       "      <td>0.898039</td>\n",
       "      <td>0.635294</td>\n",
       "      <td>0.874510</td>\n",
       "      <td>0.690196</td>\n",
       "      <td>...</td>\n",
       "      <td>0.909804</td>\n",
       "      <td>0.921569</td>\n",
       "      <td>0.741176</td>\n",
       "      <td>0.890196</td>\n",
       "      <td>0.913725</td>\n",
       "      <td>0.729412</td>\n",
       "      <td>0.878431</td>\n",
       "      <td>0.945098</td>\n",
       "      <td>0.752941</td>\n",
       "      <td>0.905882</td>\n",
       "    </tr>\n",
       "    <tr>\n",
       "      <th>7374</th>\n",
       "      <td>0.607843</td>\n",
       "      <td>0.466667</td>\n",
       "      <td>0.768627</td>\n",
       "      <td>0.709804</td>\n",
       "      <td>0.564706</td>\n",
       "      <td>0.850980</td>\n",
       "      <td>0.772549</td>\n",
       "      <td>0.639216</td>\n",
       "      <td>0.898039</td>\n",
       "      <td>0.784314</td>\n",
       "      <td>...</td>\n",
       "      <td>1.000000</td>\n",
       "      <td>0.976471</td>\n",
       "      <td>0.960784</td>\n",
       "      <td>0.984314</td>\n",
       "      <td>0.949020</td>\n",
       "      <td>0.941176</td>\n",
       "      <td>0.956863</td>\n",
       "      <td>0.945098</td>\n",
       "      <td>0.945098</td>\n",
       "      <td>0.952941</td>\n",
       "    </tr>\n",
       "    <tr>\n",
       "      <th>5479</th>\n",
       "      <td>0.905882</td>\n",
       "      <td>0.690196</td>\n",
       "      <td>0.933333</td>\n",
       "      <td>0.721569</td>\n",
       "      <td>0.533333</td>\n",
       "      <td>0.784314</td>\n",
       "      <td>0.521569</td>\n",
       "      <td>0.333333</td>\n",
       "      <td>0.596078</td>\n",
       "      <td>0.505882</td>\n",
       "      <td>...</td>\n",
       "      <td>0.827451</td>\n",
       "      <td>0.733333</td>\n",
       "      <td>0.513725</td>\n",
       "      <td>0.760784</td>\n",
       "      <td>0.596078</td>\n",
       "      <td>0.400000</td>\n",
       "      <td>0.650980</td>\n",
       "      <td>0.490196</td>\n",
       "      <td>0.305882</td>\n",
       "      <td>0.600000</td>\n",
       "    </tr>\n",
       "    <tr>\n",
       "      <th>5282</th>\n",
       "      <td>0.529412</td>\n",
       "      <td>0.384314</td>\n",
       "      <td>0.674510</td>\n",
       "      <td>0.698039</td>\n",
       "      <td>0.556863</td>\n",
       "      <td>0.772549</td>\n",
       "      <td>0.803922</td>\n",
       "      <td>0.658824</td>\n",
       "      <td>0.819608</td>\n",
       "      <td>0.823529</td>\n",
       "      <td>...</td>\n",
       "      <td>0.576471</td>\n",
       "      <td>0.505882</td>\n",
       "      <td>0.388235</td>\n",
       "      <td>0.662745</td>\n",
       "      <td>0.850980</td>\n",
       "      <td>0.729412</td>\n",
       "      <td>0.925490</td>\n",
       "      <td>0.960784</td>\n",
       "      <td>0.831373</td>\n",
       "      <td>0.972549</td>\n",
       "    </tr>\n",
       "    <tr>\n",
       "      <th>...</th>\n",
       "      <td>...</td>\n",
       "      <td>...</td>\n",
       "      <td>...</td>\n",
       "      <td>...</td>\n",
       "      <td>...</td>\n",
       "      <td>...</td>\n",
       "      <td>...</td>\n",
       "      <td>...</td>\n",
       "      <td>...</td>\n",
       "      <td>...</td>\n",
       "      <td>...</td>\n",
       "      <td>...</td>\n",
       "      <td>...</td>\n",
       "      <td>...</td>\n",
       "      <td>...</td>\n",
       "      <td>...</td>\n",
       "      <td>...</td>\n",
       "      <td>...</td>\n",
       "      <td>...</td>\n",
       "      <td>...</td>\n",
       "      <td>...</td>\n",
       "    </tr>\n",
       "    <tr>\n",
       "      <th>5166</th>\n",
       "      <td>0.878431</td>\n",
       "      <td>0.741176</td>\n",
       "      <td>0.882353</td>\n",
       "      <td>0.854902</td>\n",
       "      <td>0.713725</td>\n",
       "      <td>0.874510</td>\n",
       "      <td>0.835294</td>\n",
       "      <td>0.686275</td>\n",
       "      <td>0.858824</td>\n",
       "      <td>0.831373</td>\n",
       "      <td>...</td>\n",
       "      <td>0.623529</td>\n",
       "      <td>0.466667</td>\n",
       "      <td>0.301961</td>\n",
       "      <td>0.592157</td>\n",
       "      <td>0.537255</td>\n",
       "      <td>0.360784</td>\n",
       "      <td>0.666667</td>\n",
       "      <td>0.541176</td>\n",
       "      <td>0.368627</td>\n",
       "      <td>0.674510</td>\n",
       "    </tr>\n",
       "    <tr>\n",
       "      <th>3466</th>\n",
       "      <td>0.945098</td>\n",
       "      <td>0.890196</td>\n",
       "      <td>0.949020</td>\n",
       "      <td>0.937255</td>\n",
       "      <td>0.878431</td>\n",
       "      <td>0.949020</td>\n",
       "      <td>0.933333</td>\n",
       "      <td>0.854902</td>\n",
       "      <td>0.964706</td>\n",
       "      <td>0.878431</td>\n",
       "      <td>...</td>\n",
       "      <td>0.564706</td>\n",
       "      <td>0.396078</td>\n",
       "      <td>0.250980</td>\n",
       "      <td>0.603922</td>\n",
       "      <td>0.364706</td>\n",
       "      <td>0.227451</td>\n",
       "      <td>0.572549</td>\n",
       "      <td>0.356863</td>\n",
       "      <td>0.223529</td>\n",
       "      <td>0.556863</td>\n",
       "    </tr>\n",
       "    <tr>\n",
       "      <th>9883</th>\n",
       "      <td>0.823529</td>\n",
       "      <td>0.647059</td>\n",
       "      <td>0.823529</td>\n",
       "      <td>0.784314</td>\n",
       "      <td>0.603922</td>\n",
       "      <td>0.788235</td>\n",
       "      <td>0.807843</td>\n",
       "      <td>0.627451</td>\n",
       "      <td>0.811765</td>\n",
       "      <td>0.780392</td>\n",
       "      <td>...</td>\n",
       "      <td>0.984314</td>\n",
       "      <td>0.968627</td>\n",
       "      <td>0.807843</td>\n",
       "      <td>0.968627</td>\n",
       "      <td>0.831373</td>\n",
       "      <td>0.674510</td>\n",
       "      <td>0.831373</td>\n",
       "      <td>0.827451</td>\n",
       "      <td>0.678431</td>\n",
       "      <td>0.831373</td>\n",
       "    </tr>\n",
       "    <tr>\n",
       "      <th>5173</th>\n",
       "      <td>0.521569</td>\n",
       "      <td>0.309804</td>\n",
       "      <td>0.615686</td>\n",
       "      <td>0.419608</td>\n",
       "      <td>0.231373</td>\n",
       "      <td>0.529412</td>\n",
       "      <td>0.639216</td>\n",
       "      <td>0.439216</td>\n",
       "      <td>0.737255</td>\n",
       "      <td>0.694118</td>\n",
       "      <td>...</td>\n",
       "      <td>0.913725</td>\n",
       "      <td>0.831373</td>\n",
       "      <td>0.694118</td>\n",
       "      <td>0.886275</td>\n",
       "      <td>0.639216</td>\n",
       "      <td>0.501961</td>\n",
       "      <td>0.760784</td>\n",
       "      <td>0.490196</td>\n",
       "      <td>0.349020</td>\n",
       "      <td>0.643137</td>\n",
       "    </tr>\n",
       "    <tr>\n",
       "      <th>9493</th>\n",
       "      <td>0.772549</td>\n",
       "      <td>0.650980</td>\n",
       "      <td>0.878431</td>\n",
       "      <td>0.729412</td>\n",
       "      <td>0.588235</td>\n",
       "      <td>0.815686</td>\n",
       "      <td>0.737255</td>\n",
       "      <td>0.576471</td>\n",
       "      <td>0.788235</td>\n",
       "      <td>0.756863</td>\n",
       "      <td>...</td>\n",
       "      <td>0.866667</td>\n",
       "      <td>0.898039</td>\n",
       "      <td>0.768627</td>\n",
       "      <td>0.909804</td>\n",
       "      <td>0.882353</td>\n",
       "      <td>0.741176</td>\n",
       "      <td>0.886275</td>\n",
       "      <td>0.796078</td>\n",
       "      <td>0.658824</td>\n",
       "      <td>0.776471</td>\n",
       "    </tr>\n",
       "  </tbody>\n",
       "</table>\n",
       "<p>5937 rows × 2187 columns</p>\n",
       "</div>"
      ],
      "text/plain": [
       "          0         1         2         3         4         5         6      \n",
       "7364  0.964706  0.843137  0.984314  0.898039  0.780392  0.905882  0.850980  \\\n",
       "5723  0.913725  0.674510  0.882353  0.858824  0.603922  0.823529  0.898039   \n",
       "7374  0.607843  0.466667  0.768627  0.709804  0.564706  0.850980  0.772549   \n",
       "5479  0.905882  0.690196  0.933333  0.721569  0.533333  0.784314  0.521569   \n",
       "5282  0.529412  0.384314  0.674510  0.698039  0.556863  0.772549  0.803922   \n",
       "...        ...       ...       ...       ...       ...       ...       ...   \n",
       "5166  0.878431  0.741176  0.882353  0.854902  0.713725  0.874510  0.835294   \n",
       "3466  0.945098  0.890196  0.949020  0.937255  0.878431  0.949020  0.933333   \n",
       "9883  0.823529  0.647059  0.823529  0.784314  0.603922  0.788235  0.807843   \n",
       "5173  0.521569  0.309804  0.615686  0.419608  0.231373  0.529412  0.639216   \n",
       "9493  0.772549  0.650980  0.878431  0.729412  0.588235  0.815686  0.737255   \n",
       "\n",
       "          7         8         9     ...      2177      2178      2179   \n",
       "7364  0.741176  0.862745  0.874510  ...  0.776471  0.874510  0.729412  \\\n",
       "5723  0.635294  0.874510  0.690196  ...  0.909804  0.921569  0.741176   \n",
       "7374  0.639216  0.898039  0.784314  ...  1.000000  0.976471  0.960784   \n",
       "5479  0.333333  0.596078  0.505882  ...  0.827451  0.733333  0.513725   \n",
       "5282  0.658824  0.819608  0.823529  ...  0.576471  0.505882  0.388235   \n",
       "...        ...       ...       ...  ...       ...       ...       ...   \n",
       "5166  0.686275  0.858824  0.831373  ...  0.623529  0.466667  0.301961   \n",
       "3466  0.854902  0.964706  0.878431  ...  0.564706  0.396078  0.250980   \n",
       "9883  0.627451  0.811765  0.780392  ...  0.984314  0.968627  0.807843   \n",
       "5173  0.439216  0.737255  0.694118  ...  0.913725  0.831373  0.694118   \n",
       "9493  0.576471  0.788235  0.756863  ...  0.866667  0.898039  0.768627   \n",
       "\n",
       "          2180      2181      2182      2183      2184      2185      2186  \n",
       "7364  0.878431  0.964706  0.807843  0.968627  0.901961  0.733333  0.898039  \n",
       "5723  0.890196  0.913725  0.729412  0.878431  0.945098  0.752941  0.905882  \n",
       "7374  0.984314  0.949020  0.941176  0.956863  0.945098  0.945098  0.952941  \n",
       "5479  0.760784  0.596078  0.400000  0.650980  0.490196  0.305882  0.600000  \n",
       "5282  0.662745  0.850980  0.729412  0.925490  0.960784  0.831373  0.972549  \n",
       "...        ...       ...       ...       ...       ...       ...       ...  \n",
       "5166  0.592157  0.537255  0.360784  0.666667  0.541176  0.368627  0.674510  \n",
       "3466  0.603922  0.364706  0.227451  0.572549  0.356863  0.223529  0.556863  \n",
       "9883  0.968627  0.831373  0.674510  0.831373  0.827451  0.678431  0.831373  \n",
       "5173  0.886275  0.639216  0.501961  0.760784  0.490196  0.349020  0.643137  \n",
       "9493  0.909804  0.882353  0.741176  0.886275  0.796078  0.658824  0.776471  \n",
       "\n",
       "[5937 rows x 2187 columns]"
      ]
     },
     "execution_count": 9,
     "metadata": {},
     "output_type": "execute_result"
    }
   ],
   "source": [
    "X_train"
   ]
  },
  {
   "cell_type": "code",
   "execution_count": 10,
   "metadata": {},
   "outputs": [
    {
     "data": {
      "text/plain": [
       "7364    0\n",
       "5723    1\n",
       "7374    0\n",
       "5479    1\n",
       "5282    0\n",
       "       ..\n",
       "5166    0\n",
       "3466    1\n",
       "9883    1\n",
       "5173    0\n",
       "9493    0\n",
       "Name: isCancerous, Length: 5937, dtype: int64"
      ]
     },
     "execution_count": 10,
     "metadata": {},
     "output_type": "execute_result"
    }
   ],
   "source": [
    "y_train"
   ]
  },
  {
   "cell_type": "code",
   "execution_count": 11,
   "metadata": {},
   "outputs": [],
   "source": [
    "def SVM(**kwargs):\n",
    "    model = svm.SVC(**kwargs)\n",
    "    return model"
   ]
  },
  {
   "cell_type": "code",
   "execution_count": 12,
   "metadata": {},
   "outputs": [],
   "source": [
    "svm_model = SVM()\n",
    "svm_result = svm_model.fit(X_train, y_train)"
   ]
  },
  {
   "cell_type": "code",
   "execution_count": 13,
   "metadata": {},
   "outputs": [],
   "source": [
    "svm_history = svm_result.predict(X_val)"
   ]
  },
  {
   "cell_type": "code",
   "execution_count": 14,
   "metadata": {},
   "outputs": [
    {
     "data": {
      "text/plain": [
       "0.9014653865588681"
      ]
     },
     "execution_count": 14,
     "metadata": {},
     "output_type": "execute_result"
    }
   ],
   "source": [
    "svm_score = accuracy_score(y_val, svm_history)\n",
    "svm_score"
   ]
  },
  {
   "cell_type": "code",
   "execution_count": 15,
   "metadata": {
    "scrolled": true
   },
   "outputs": [],
   "source": [
    "svm_result = confusion_matrix(y_val, svm_history , normalize='pred')"
   ]
  },
  {
   "cell_type": "code",
   "execution_count": 16,
   "metadata": {
    "scrolled": false
   },
   "outputs": [
    {
     "data": {
      "image/png": "[encoded data removed]",
      "text/plain": [
       "<Figure size 640x480 with 2 Axes>"
      ]
     },
     "metadata": {},
     "output_type": "display_data"
    }
   ],
   "source": [
    "disp = ConfusionMatrixDisplay(confusion_matrix=svm_result, display_labels=[0, 1])\n",
    "disp.plot()\n",
    "plt.show()"
   ]
  },
  {
   "cell_type": "markdown",
   "metadata": {},
   "source": [
    "## Decision Tree"
   ]
  },
  {
   "cell_type": "code",
   "execution_count": 26,
   "metadata": {},
   "outputs": [],
   "source": [
    "def Decision_Tree(**kwargs):\n",
    "    model = DecisionTreeClassifier(**kwargs)\n",
    "    return model"
   ]
  },
  {
   "cell_type": "code",
   "execution_count": 30,
   "metadata": {},
   "outputs": [],
   "source": [
    "dt_model = Decision_Tree()\n",
    "\n",
    "dt_result = dt_model.fit(X_train, y_train)"
   ]
  },
  {
   "cell_type": "code",
   "execution_count": 32,
   "metadata": {},
   "outputs": [],
   "source": [
    "dt_history = dt_result.predict(X_val)"
   ]
  },
  {
   "cell_type": "code",
   "execution_count": 33,
   "metadata": {},
   "outputs": [
    {
     "data": {
      "text/plain": [
       "0.7473471450227388"
      ]
     },
     "execution_count": 33,
     "metadata": {},
     "output_type": "execute_result"
    }
   ],
   "source": [
    "dt_score = accuracy_score(y_val, dt_history)\n",
    "dt_score"
   ]
  },
  {
   "cell_type": "code",
   "execution_count": 34,
   "metadata": {},
   "outputs": [
    {
     "data": {
      "image/png": "[encoded data removed]",
      "text/plain": [
       "<Figure size 640x480 with 2 Axes>"
      ]
     },
     "metadata": {},
     "output_type": "display_data"
    }
   ],
   "source": [
    "dt_result = confusion_matrix(y_val, dt_history , normalize='pred')\n",
    "disp = ConfusionMatrixDisplay(confusion_matrix=dt_result, display_labels=[0, 1])\n",
    "disp.plot()\n",
    "plt.show()"
   ]
  },
  {
   "cell_type": "markdown",
   "metadata": {},
   "source": [
    "It is theorised that Decision tree will almost always perform worse than Random Forest because Random Forest is designed to resolve issues with overfitting with decision trees by having different instances of trees with random features selected. Therefore, decision tree is a good base model for Random Forest."
   ]
  },
  {
   "cell_type": "markdown",
   "metadata": {},
   "source": [
    "## Random Forest"
   ]
  },
  {
   "cell_type": "code",
   "execution_count": 17,
   "metadata": {},
   "outputs": [],
   "source": [
    "from sklearn.ensemble import RandomForestClassifier"
   ]
  },
  {
   "cell_type": "code",
   "execution_count": 19,
   "metadata": {},
   "outputs": [],
   "source": [
    "def Random_Forest(**kwargs):\n",
    "    model = RandomForestClassifier(**kwargs)\n",
    "    return model"
   ]
  },
  {
   "cell_type": "code",
   "execution_count": 20,
   "metadata": {},
   "outputs": [],
   "source": [
    "rf_model = Random_Forest()\n",
    "\n",
    "rf_result = rf_model.fit(X_train, y_train)"
   ]
  },
  {
   "cell_type": "code",
   "execution_count": 21,
   "metadata": {},
   "outputs": [],
   "source": [
    "rf_history = rf_result.predict(X_val)"
   ]
  },
  {
   "cell_type": "code",
   "execution_count": 22,
   "metadata": {
    "scrolled": true
   },
   "outputs": [
    {
     "data": {
      "text/plain": [
       "0.8782213239009601"
      ]
     },
     "execution_count": 22,
     "metadata": {},
     "output_type": "execute_result"
    }
   ],
   "source": [
    "rf_score = accuracy_score(y_val, rf_history)\n",
    "rf_score"
   ]
  },
  {
   "cell_type": "code",
   "execution_count": 23,
   "metadata": {},
   "outputs": [
    {
     "data": {
      "image/png": "[encoded data removed]",
      "text/plain": [
       "<Figure size 640x480 with 2 Axes>"
      ]
     },
     "metadata": {},
     "output_type": "display_data"
    }
   ],
   "source": [
    "rf_result = confusion_matrix(y_val, rf_history , normalize='pred')\n",
    "disp = ConfusionMatrixDisplay(confusion_matrix=rf_result, display_labels=[0, 1])\n",
    "disp.plot()\n",
    "plt.show()"
   ]
  },
  {
   "cell_type": "markdown",
   "metadata": {},
   "source": [
    "# Hyperparameter Tuning"
   ]
  },
  {
   "cell_type": "markdown",
   "metadata": {},
   "source": [
    "## Grid Search"
   ]
  },
  {
   "cell_type": "code",
   "execution_count": 42,
   "metadata": {},
   "outputs": [],
   "source": [
    "def Grid_Search(**kwargs):\n",
    "    model = GridSearchCV(**kwargs)\n",
    "    return model"
   ]
  },
  {
   "cell_type": "markdown",
   "metadata": {},
   "source": [
    "### Using Random Forest for Grid Search"
   ]
  },
  {
   "cell_type": "code",
   "execution_count": 58,
   "metadata": {},
   "outputs": [],
   "source": [
    "n_estimators = [int(x) for x in np.linspace(start = 200, stop = 2000, num = 1)]\n",
    "max_features = ['auto', 'sqrt']\n",
    "max_depth = [int(x) for x in np.linspace(10, 20, num = 2)]\n",
    "min_samples_split = [int(x) for x in np.linspace(2, 4, num = 2)]\n",
    "min_samples_leaf = [1, 2]\n",
    "bootstrap = [True, False]\n",
    "\n",
    "all_grid = {'n_estimators': n_estimators,\n",
    "               'max_features': max_features,\n",
    "               'max_depth': max_depth,\n",
    "               'min_samples_split': min_samples_split,\n",
    "               'min_samples_leaf': min_samples_leaf,\n",
    "               'bootstrap': bootstrap}"
   ]
  },
  {
   "cell_type": "code",
   "execution_count": 59,
   "metadata": {},
   "outputs": [],
   "source": [
    "rf = Random_Forest()\n",
    "\n",
    "rf_grid = Grid_Search(estimator = rf, param_grid = all_grid, cv = 4, verbose=2, n_jobs = -1)\n"
   ]
  },
  {
   "cell_type": "code",
   "execution_count": 60,
   "metadata": {
    "scrolled": false
   },
   "outputs": [
    {
     "name": "stdout",
     "output_type": "stream",
     "text": [
      "Fitting 4 folds for each of 32 candidates, totalling 128 fits\n"
     ]
    },
    {
     "data": {
      "text/html": [
       "<style>#sk-container-id-1 {color: black;background-color: white;}#sk-container-id-1 pre{padding: 0;}#sk-container-id-1 div.sk-toggleable {background-color: white;}#sk-container-id-1 label.sk-toggleable__label {cursor: pointer;display: block;width: 100%;margin-bottom: 0;padding: 0.3em;box-sizing: border-box;text-align: center;}#sk-container-id-1 label.sk-toggleable__label-arrow:before {content: \"▸\";float: left;margin-right: 0.25em;color: #696969;}#sk-container-id-1 label.sk-toggleable__label-arrow:hover:before {color: black;}#sk-container-id-1 div.sk-estimator:hover label.sk-toggleable__label-arrow:before {color: black;}#sk-container-id-1 div.sk-toggleable__content {max-height: 0;max-width: 0;overflow: hidden;text-align: left;background-color: #f0f8ff;}#sk-container-id-1 div.sk-toggleable__content pre {margin: 0.2em;color: black;border-radius: 0.25em;background-color: #f0f8ff;}#sk-container-id-1 input.sk-toggleable__control:checked~div.sk-toggleable__content {max-height: 200px;max-width: 100%;overflow: auto;}#sk-container-id-1 input.sk-toggleable__control:checked~label.sk-toggleable__label-arrow:before {content: \"▾\";}#sk-container-id-1 div.sk-estimator input.sk-toggleable__control:checked~label.sk-toggleable__label {background-color: #d4ebff;}#sk-container-id-1 div.sk-label input.sk-toggleable__control:checked~label.sk-toggleable__label {background-color: #d4ebff;}#sk-container-id-1 input.sk-hidden--visually {border: 0;clip: rect(1px 1px 1px 1px);clip: rect(1px, 1px, 1px, 1px);height: 1px;margin: -1px;overflow: hidden;padding: 0;position: absolute;width: 1px;}#sk-container-id-1 div.sk-estimator {font-family: monospace;background-color: #f0f8ff;border: 1px dotted black;border-radius: 0.25em;box-sizing: border-box;margin-bottom: 0.5em;}#sk-container-id-1 div.sk-estimator:hover {background-color: #d4ebff;}#sk-container-id-1 div.sk-parallel-item::after {content: \"\";width: 100%;border-bottom: 1px solid gray;flex-grow: 1;}#sk-container-id-1 div.sk-label:hover label.sk-toggleable__label {background-color: #d4ebff;}#sk-container-id-1 div.sk-serial::before {content: \"\";position: absolute;border-left: 1px solid gray;box-sizing: border-box;top: 0;bottom: 0;left: 50%;z-index: 0;}#sk-container-id-1 div.sk-serial {display: flex;flex-direction: column;align-items: center;background-color: white;padding-right: 0.2em;padding-left: 0.2em;position: relative;}#sk-container-id-1 div.sk-item {position: relative;z-index: 1;}#sk-container-id-1 div.sk-parallel {display: flex;align-items: stretch;justify-content: center;background-color: white;position: relative;}#sk-container-id-1 div.sk-item::before, #sk-container-id-1 div.sk-parallel-item::before {content: \"\";position: absolute;border-left: 1px solid gray;box-sizing: border-box;top: 0;bottom: 0;left: 50%;z-index: -1;}#sk-container-id-1 div.sk-parallel-item {display: flex;flex-direction: column;z-index: 1;position: relative;background-color: white;}#sk-container-id-1 div.sk-parallel-item:first-child::after {align-self: flex-end;width: 50%;}#sk-container-id-1 div.sk-parallel-item:last-child::after {align-self: flex-start;width: 50%;}#sk-container-id-1 div.sk-parallel-item:only-child::after {width: 0;}#sk-container-id-1 div.sk-dashed-wrapped {border: 1px dashed gray;margin: 0 0.4em 0.5em 0.4em;box-sizing: border-box;padding-bottom: 0.4em;background-color: white;}#sk-container-id-1 div.sk-label label {font-family: monospace;font-weight: bold;display: inline-block;line-height: 1.2em;}#sk-container-id-1 div.sk-label-container {text-align: center;}#sk-container-id-1 div.sk-container {/* jupyter's `normalize.less` sets `[hidden] { display: none; }` but bootstrap.min.css set `[hidden] { display: none !important; }` so we also need the `!important` here to be able to override the default hidden behavior on the sphinx rendered scikit-learn.org. See: https://github.com/scikit-learn/scikit-learn/issues/21755 */display: inline-block !important;position: relative;}#sk-container-id-1 div.sk-text-repr-fallback {display: none;}</style><div id=\"sk-container-id-1\" class=\"sk-top-container\"><div class=\"sk-text-repr-fallback\"><pre>GridSearchCV(cv=4, estimator=RandomForestClassifier(), n_jobs=-1,\n",
       "             param_grid={&#x27;bootstrap&#x27;: [True, False], &#x27;max_depth&#x27;: [10, 20],\n",
       "                         &#x27;max_features&#x27;: [&#x27;auto&#x27;, &#x27;sqrt&#x27;],\n",
       "                         &#x27;min_samples_leaf&#x27;: [1, 2],\n",
       "                         &#x27;min_samples_split&#x27;: [2, 4], &#x27;n_estimators&#x27;: [200]},\n",
       "             verbose=2)</pre><b>In a Jupyter environment, please rerun this cell to show the HTML representation or trust the notebook. <br />On GitHub, the HTML representation is unable to render, please try loading this page with nbviewer.org.</b></div><div class=\"sk-container\" hidden><div class=\"sk-item sk-dashed-wrapped\"><div class=\"sk-label-container\"><div class=\"sk-label sk-toggleable\"><input class=\"sk-toggleable__control sk-hidden--visually\" id=\"sk-estimator-id-1\" type=\"checkbox\" ><label for=\"sk-estimator-id-1\" class=\"sk-toggleable__label sk-toggleable__label-arrow\">GridSearchCV</label><div class=\"sk-toggleable__content\"><pre>GridSearchCV(cv=4, estimator=RandomForestClassifier(), n_jobs=-1,\n",
       "             param_grid={&#x27;bootstrap&#x27;: [True, False], &#x27;max_depth&#x27;: [10, 20],\n",
       "                         &#x27;max_features&#x27;: [&#x27;auto&#x27;, &#x27;sqrt&#x27;],\n",
       "                         &#x27;min_samples_leaf&#x27;: [1, 2],\n",
       "                         &#x27;min_samples_split&#x27;: [2, 4], &#x27;n_estimators&#x27;: [200]},\n",
       "             verbose=2)</pre></div></div></div><div class=\"sk-parallel\"><div class=\"sk-parallel-item\"><div class=\"sk-item\"><div class=\"sk-label-container\"><div class=\"sk-label sk-toggleable\"><input class=\"sk-toggleable__control sk-hidden--visually\" id=\"sk-estimator-id-2\" type=\"checkbox\" ><label for=\"sk-estimator-id-2\" class=\"sk-toggleable__label sk-toggleable__label-arrow\">estimator: RandomForestClassifier</label><div class=\"sk-toggleable__content\"><pre>RandomForestClassifier()</pre></div></div></div><div class=\"sk-serial\"><div class=\"sk-item\"><div class=\"sk-estimator sk-toggleable\"><input class=\"sk-toggleable__control sk-hidden--visually\" id=\"sk-estimator-id-3\" type=\"checkbox\" ><label for=\"sk-estimator-id-3\" class=\"sk-toggleable__label sk-toggleable__label-arrow\">RandomForestClassifier</label><div class=\"sk-toggleable__content\"><pre>RandomForestClassifier()</pre></div></div></div></div></div></div></div></div></div></div>"
      ],
      "text/plain": [
       "GridSearchCV(cv=4, estimator=RandomForestClassifier(), n_jobs=-1,\n",
       "             param_grid={'bootstrap': [True, False], 'max_depth': [10, 20],\n",
       "                         'max_features': ['auto', 'sqrt'],\n",
       "                         'min_samples_leaf': [1, 2],\n",
       "                         'min_samples_split': [2, 4], 'n_estimators': [200]},\n",
       "             verbose=2)"
      ]
     },
     "execution_count": 60,
     "metadata": {},
     "output_type": "execute_result"
    }
   ],
   "source": [
    "rf_grid.fit(X_trainCV, y_trainCV)"
   ]
  },
  {
   "cell_type": "code",
   "execution_count": 73,
   "metadata": {},
   "outputs": [],
   "source": [
    "def getBest_result(model):\n",
    "    print(model.best_params_)\n",
    "    print(rf_grid.best_score_)"
   ]
  },
  {
   "cell_type": "code",
   "execution_count": 74,
   "metadata": {
    "scrolled": true
   },
   "outputs": [
    {
     "name": "stdout",
     "output_type": "stream",
     "text": [
      "{'bootstrap': False, 'max_depth': 20, 'max_features': 'sqrt', 'min_samples_leaf': 2, 'min_samples_split': 2, 'n_estimators': 200}\n",
      "0.8775896917635169\n"
     ]
    }
   ],
   "source": [
    "getBest_result(rf_grid)"
   ]
  },
  {
   "cell_type": "code",
   "execution_count": 88,
   "metadata": {},
   "outputs": [],
   "source": [
    "rf_grid_best = rf_grid.predict(X_test)"
   ]
  },
  {
   "cell_type": "code",
   "execution_count": 89,
   "metadata": {},
   "outputs": [],
   "source": [
    "def getResult(y_test, y_pred):\n",
    "    model_grid_score = accuracy_score(y_test, y_pred)\n",
    "    print(model_grid_score)\n",
    "    result = confusion_matrix(y_test, y_pred , normalize='pred')\n",
    "    disp = ConfusionMatrixDisplay(confusion_matrix=result, display_labels=[0, 1])\n",
    "    disp.plot()\n",
    "    plt.show()\n",
    "    return model_grid_score"
   ]
  },
  {
   "cell_type": "code",
   "execution_count": 91,
   "metadata": {},
   "outputs": [
    {
     "name": "stdout",
     "output_type": "stream",
     "text": [
      "0.8893939393939394\n"
     ]
    },
    {
     "data": {
      "image/png": "[encoded data removed]",
      "text/plain": [
       "<Figure size 640x480 with 2 Axes>"
      ]
     },
     "metadata": {},
     "output_type": "display_data"
    },
    {
     "data": {
      "text/plain": [
       "0.8893939393939394"
      ]
     },
     "execution_count": 91,
     "metadata": {},
     "output_type": "execute_result"
    }
   ],
   "source": [
    "getResult(y_test, rf_grid_best)"
   ]
  },
  {
   "cell_type": "markdown",
   "metadata": {},
   "source": [
    "## Random Search"
   ]
  },
  {
   "cell_type": "code",
   "execution_count": 43,
   "metadata": {},
   "outputs": [],
   "source": [
    "def Random_Search(**kwargs):\n",
    "    model = RandomizedSearchCV(**kwargs)\n",
    "    return model"
   ]
  },
  {
   "cell_type": "markdown",
   "metadata": {},
   "source": [
    "### Using SVM for Random Search"
   ]
  },
  {
   "cell_type": "code",
   "execution_count": 108,
   "metadata": {},
   "outputs": [],
   "source": [
    "C = [int(x) for x in np.linspace(2, 8, num = 4)]\n",
    "gamma_number = np.logspace(-1, 1, 3)\n",
    "kernel = ['rbf','poly']\n",
    "gamma = gamma_number.tolist()+['scale', 'auto']\n",
    "scoring = ['accuracy']\n",
    "\n",
    "param = {\"C\": C, \"kernel\": kernel, \"gamma\": gamma}\n",
    "\n",
    "svm_model = SVM()\n",
    "svm_grid = Random_Search(estimator = svm_model, param_distributions = param, refit='accuracy', n_jobs=-1, cv=4, verbose=0, n_iter = 30)"
   ]
  },
  {
   "cell_type": "code",
   "execution_count": null,
   "metadata": {},
   "outputs": [],
   "source": [
    "# Something is wrong here, runs infinitely.\n",
    "svm_grid.fit(X_trainCV, y_trainCV)"
   ]
  },
  {
   "cell_type": "code",
   "execution_count": null,
   "metadata": {},
   "outputs": [],
   "source": [
    "getBest_result(svm_grid)"
   ]
  },
  {
   "cell_type": "code",
   "execution_count": null,
   "metadata": {},
   "outputs": [],
   "source": [
    "svm_random_best = svm_grid.predict(X_test)"
   ]
  },
  {
   "cell_type": "code",
   "execution_count": null,
   "metadata": {},
   "outputs": [],
   "source": [
    "getResult(y_test, svm_random_best)"
   ]
  },
  {
   "cell_type": "markdown",
   "metadata": {},
   "source": [
    "## Plot Hyperparameters"
   ]
  },
  {
   "cell_type": "code",
   "execution_count": null,
   "metadata": {},
   "outputs": [],
   "source": [
    "def Plot_Hyperparam():\n",
    "    return None"
   ]
  },
  {
   "cell_type": "code",
   "execution_count": null,
   "metadata": {},
   "outputs": [],
   "source": []
  }
 ],
 "metadata": {
  "kernelspec": {
   "display_name": "Python 3 (ipykernel)",
   "language": "python",
   "name": "python3"
  },
  "language_info": {
   "codemirror_mode": {
    "name": "ipython",
    "version": 3
   },
   "file_extension": ".py",
   "mimetype": "text/x-python",
   "name": "python",
   "nbconvert_exporter": "python",
   "pygments_lexer": "ipython3",
   "version": "3.10.11"
  }
 },
 "nbformat": 4,
 "nbformat_minor": 2
}
