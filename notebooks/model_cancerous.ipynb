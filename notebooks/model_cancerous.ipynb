{
 "cells": [
  {
   "cell_type": "code",
   "execution_count": 2,
   "metadata": {},
   "outputs": [],
   "source": [
    "import sys\n",
    "sys.path.append('../src')\n",
    "\n",
    "import model_utils"
   ]
  },
  {
   "attachments": {},
   "cell_type": "markdown",
   "metadata": {},
   "source": [
    "#### Machine Learning Model Functions:\n",
    "\n",
    "a. CNN():\n",
    "This function creates a Convolutional Neural Network (CNN) model for image classification. It consists of a series of convolutional, pooling, and dense layers, along with activation functions, dropout, and normalization layers.\n",
    "\n",
    "b. SVM():\n",
    "This function creates a Support Vector Machine (SVM) model for image classification. It uses a kernel function to map the images into a high-dimensional feature space, where it finds the optimal hyperplane that separates the cancerous and non-cancerous cells or the different cell types.\n",
    "\n",
    "c. Random Forest():\n",
    "This function creates a Random Forest model for image classification. It builds multiple decision trees on randomly selected subsets of the data and features and combines their predictions to obtain a final classification."
   ]
  },
  {
   "attachments": {},
   "cell_type": "markdown",
   "metadata": {},
   "source": [
    "#### Hyperparameter Tuning Functions:\n",
    "\n",
    "a. grid_search():\n",
    "This function performs a grid search over a range of hyperparameters for a given model and dataset, and returns the best combination of hyperparameters that yields the highest cross-validation accuracy.\n",
    "\n",
    "b. random_search():\n",
    "This function performs a random search over a range of hyperparameters for a given model and dataset, and returns the best combination of hyperparameters that yields the highest cross-validation accuracy.\n",
    "\n",
    "c. plot_hyperparameters():\n",
    "This function plots the results of a hyperparameter search as a heatmap or scatter plot, showing the correlation between different hyperparameters and their effect on the model performance.\n",
    "\n",
    "These are just some examples of Python functions that you can use for task 1.2. You may need to customize or combine them based on your specific requirements and data."
   ]
  },
  {
   "attachments": {},
   "cell_type": "markdown",
   "metadata": {},
   "source": []
  }
 ],
 "metadata": {
  "kernelspec": {
   "display_name": "base",
   "language": "python",
   "name": "python3"
  },
  "language_info": {
   "codemirror_mode": {
    "name": "ipython",
    "version": 3
   },
   "file_extension": ".py",
   "mimetype": "text/x-python",
   "name": "python",
   "nbconvert_exporter": "python",
   "pygments_lexer": "ipython3",
   "version": "3.9.12"
  },
  "orig_nbformat": 4
 },
 "nbformat": 4,
 "nbformat_minor": 2
}
