{
 "cells": [
  {
   "cell_type": "code",
   "execution_count": 1,
   "metadata": {},
   "outputs": [
    {
     "name": "stdout",
     "output_type": "stream",
     "text": [
      "2.10.0\n",
      "2.10.0\n"
     ]
    }
   ],
   "source": [
    "import sys\n",
    "sys.path.append('../../src')\n",
    "\n",
    "import data_utils\n",
    "import matplotlib.pyplot  as plt\n",
    "import seaborn as sns\n",
    "\n",
    "import tensorflow as tf\n",
    "from tensorflow import keras\n",
    "AUTOTUNE = tf.data.experimental.AUTOTUNE\n",
    "\n",
    "import IPython.display as display\n",
    "from PIL import Image\n",
    "import os\n",
    "\n",
    "print(tf.__version__)\n",
    "print(keras.__version__)"
   ]
  },
  {
   "cell_type": "code",
   "execution_count": 2,
   "metadata": {},
   "outputs": [],
   "source": [
    "dataset_main = data_utils.load_data(\"../../data_raw/data_labels_mainData.csv\")\n",
    "dataset_main = data_utils.load_data(\"../../data_raw/data_labels_mainData.csv\")"
   ]
  },
  {
   "cell_type": "code",
   "execution_count": 9,
   "metadata": {},
   "outputs": [
    {
     "data": {
      "text/html": [
       "<div>\n",
       "<style scoped>\n",
       "    .dataframe tbody tr th:only-of-type {\n",
       "        vertical-align: middle;\n",
       "    }\n",
       "\n",
       "    .dataframe tbody tr th {\n",
       "        vertical-align: top;\n",
       "    }\n",
       "\n",
       "    .dataframe thead th {\n",
       "        text-align: right;\n",
       "    }\n",
       "</style>\n",
       "<table border=\"1\" class=\"dataframe\">\n",
       "  <thead>\n",
       "    <tr style=\"text-align: right;\">\n",
       "      <th></th>\n",
       "      <th>InstanceID</th>\n",
       "      <th>patientID</th>\n",
       "      <th>ImageName</th>\n",
       "      <th>cellTypeName</th>\n",
       "      <th>cellType</th>\n",
       "      <th>isCancerous</th>\n",
       "    </tr>\n",
       "  </thead>\n",
       "  <tbody>\n",
       "    <tr>\n",
       "      <th>0</th>\n",
       "      <td>22405</td>\n",
       "      <td>1</td>\n",
       "      <td>22405.png</td>\n",
       "      <td>fibroblast</td>\n",
       "      <td>0</td>\n",
       "      <td>0</td>\n",
       "    </tr>\n",
       "    <tr>\n",
       "      <th>1</th>\n",
       "      <td>22406</td>\n",
       "      <td>1</td>\n",
       "      <td>22406.png</td>\n",
       "      <td>fibroblast</td>\n",
       "      <td>0</td>\n",
       "      <td>0</td>\n",
       "    </tr>\n",
       "    <tr>\n",
       "      <th>2</th>\n",
       "      <td>22407</td>\n",
       "      <td>1</td>\n",
       "      <td>22407.png</td>\n",
       "      <td>fibroblast</td>\n",
       "      <td>0</td>\n",
       "      <td>0</td>\n",
       "    </tr>\n",
       "    <tr>\n",
       "      <th>3</th>\n",
       "      <td>22408</td>\n",
       "      <td>1</td>\n",
       "      <td>22408.png</td>\n",
       "      <td>fibroblast</td>\n",
       "      <td>0</td>\n",
       "      <td>0</td>\n",
       "    </tr>\n",
       "    <tr>\n",
       "      <th>4</th>\n",
       "      <td>22409</td>\n",
       "      <td>1</td>\n",
       "      <td>22409.png</td>\n",
       "      <td>fibroblast</td>\n",
       "      <td>0</td>\n",
       "      <td>0</td>\n",
       "    </tr>\n",
       "  </tbody>\n",
       "</table>\n",
       "</div>"
      ],
      "text/plain": [
       "   InstanceID  patientID  ImageName cellTypeName  cellType  isCancerous\n",
       "0       22405          1  22405.png   fibroblast         0            0\n",
       "1       22406          1  22406.png   fibroblast         0            0\n",
       "2       22407          1  22407.png   fibroblast         0            0\n",
       "3       22408          1  22408.png   fibroblast         0            0\n",
       "4       22409          1  22409.png   fibroblast         0            0"
      ]
     },
     "execution_count": 9,
     "metadata": {},
     "output_type": "execute_result"
    }
   ],
   "source": [
    "dataset_main.head()"
   ]
  },
  {
   "cell_type": "code",
   "execution_count": 10,
   "metadata": {},
   "outputs": [
    {
     "name": "stdout",
     "output_type": "stream",
     "text": [
      "InstanceID      0\n",
      "patientID       0\n",
      "ImageName       0\n",
      "cellTypeName    0\n",
      "cellType        0\n",
      "isCancerous     0\n",
      "dtype: int64\n",
      "\n",
      "Missing values not found\n",
      "\n"
     ]
    }
   ],
   "source": [
    "data_utils.handle_missing_values(dataset_main)\n",
    "print()"
   ]
  },
  {
   "cell_type": "code",
   "execution_count": 5,
   "metadata": {},
   "outputs": [
    {
     "data": {
      "image/png": "[encoded data removed]",
      "text/plain": [
       "<Figure size 640x480 with 4 Axes>"
      ]
     },
     "metadata": {},
     "output_type": "display_data"
    }
   ],
   "source": [
    "dataset_main.hist()\n",
    "plt.show()"
   ]
  },
  {
   "cell_type": "code",
   "execution_count": 6,
   "metadata": {},
   "outputs": [
    {
     "name": "stdout",
     "output_type": "stream",
     "text": [
      "patientID\n",
      "1      19\n",
      "2      33\n",
      "3     136\n",
      "4     127\n",
      "5     169\n",
      "6     198\n",
      "7     253\n",
      "8     332\n",
      "9     348\n",
      "10    302\n",
      "11     56\n",
      "12    130\n",
      "13    180\n",
      "14    207\n",
      "15    125\n",
      "16    111\n",
      "17    310\n",
      "18    320\n",
      "19    158\n",
      "20    325\n",
      "21    224\n",
      "22    152\n",
      "23    254\n",
      "24    192\n",
      "25    180\n",
      "26    157\n",
      "27     17\n",
      "28     15\n",
      "29    355\n",
      "30    110\n",
      "31    137\n",
      "32     99\n",
      "33    163\n",
      "34     14\n",
      "35     11\n",
      "36    128\n",
      "37     71\n",
      "38     84\n",
      "39    105\n",
      "40    209\n",
      "41    250\n",
      "42    136\n",
      "43    137\n",
      "44    121\n",
      "45     74\n",
      "46    120\n",
      "47    133\n",
      "48    147\n",
      "49    187\n",
      "50    195\n",
      "51    286\n",
      "52    178\n",
      "53    132\n",
      "54    389\n",
      "55    263\n",
      "56     92\n",
      "57    149\n",
      "58    161\n",
      "59    115\n",
      "60    115\n",
      "dtype: int64\n"
     ]
    }
   ],
   "source": [
    "instances_per_patient = dataset_main.groupby('patientID').size()\n",
    "print(instances_per_patient)"
   ]
  },
  {
   "cell_type": "code",
   "execution_count": 7,
   "metadata": {},
   "outputs": [
    {
     "name": "stdout",
     "output_type": "stream",
     "text": [
      "cellType\n",
      "0    1888\n",
      "1    2543\n",
      "2    4079\n",
      "3    1386\n",
      "dtype: int64\n"
     ]
    }
   ],
   "source": [
    "instances_per_cellType = dataset_main.groupby('cellType').size()\n",
    "print(instances_per_cellType)"
   ]
  },
  {
   "cell_type": "code",
   "execution_count": 8,
   "metadata": {},
   "outputs": [
    {
     "ename": "FileNotFoundError",
     "evalue": "[Errno 2] No such file or directory: '../../data/raw/patch_images'",
     "output_type": "error",
     "traceback": [
      "\u001b[0;31m---------------------------------------------------------------------------\u001b[0m",
      "\u001b[0;31mFileNotFoundError\u001b[0m                         Traceback (most recent call last)",
      "\u001b[1;32m/Users/alvaro/Documents/GitHub/MachineLearningAssignment2/task_cell_type/notebooks/data_preprocessing.ipynb Cell 8\u001b[0m in \u001b[0;36m2\n\u001b[1;32m      <a href='vscode-notebook-cell:/Users/alvaro/Documents/GitHub/MachineLearningAssignment2/task_cell_type/notebooks/data_preprocessing.ipynb#W6sZmlsZQ%3D%3D?line=0'>1</a>\u001b[0m image_folder \u001b[39m=\u001b[39m \u001b[39m\"\u001b[39m\u001b[39m../../data/raw/patch_images\u001b[39m\u001b[39m\"\u001b[39m\n\u001b[0;32m----> <a href='vscode-notebook-cell:/Users/alvaro/Documents/GitHub/MachineLearningAssignment2/task_cell_type/notebooks/data_preprocessing.ipynb#W6sZmlsZQ%3D%3D?line=1'>2</a>\u001b[0m image_paths \u001b[39m=\u001b[39m [os\u001b[39m.\u001b[39mpath\u001b[39m.\u001b[39mjoin(image_folder, filename) \u001b[39mfor\u001b[39;00m filename \u001b[39min\u001b[39;00m os\u001b[39m.\u001b[39;49mlistdir(image_folder)]\n\u001b[1;32m      <a href='vscode-notebook-cell:/Users/alvaro/Documents/GitHub/MachineLearningAssignment2/task_cell_type/notebooks/data_preprocessing.ipynb#W6sZmlsZQ%3D%3D?line=2'>3</a>\u001b[0m rand_paths \u001b[39m=\u001b[39m np\u001b[39m.\u001b[39mrandom\u001b[39m.\u001b[39mchoice(image_paths, \u001b[39m30\u001b[39m)\n\u001b[1;32m      <a href='vscode-notebook-cell:/Users/alvaro/Documents/GitHub/MachineLearningAssignment2/task_cell_type/notebooks/data_preprocessing.ipynb#W6sZmlsZQ%3D%3D?line=4'>5</a>\u001b[0m plt\u001b[39m.\u001b[39mfigure(figsize\u001b[39m=\u001b[39m(\u001b[39m15\u001b[39m,\u001b[39m4\u001b[39m))\n",
      "\u001b[0;31mFileNotFoundError\u001b[0m: [Errno 2] No such file or directory: '../../data/raw/patch_images'"
     ]
    }
   ],
   "source": [
    "image_folder = \"../../data/raw/patch_images\"\n",
    "image_paths = [os.path.join(image_folder, filename) for filename in os.listdir(image_folder)]\n",
    "rand_paths = np.random.choice(image_paths, 30)\n",
    "\n",
    "plt.figure(figsize=(15,4))\n",
    "for i, image_path in enumerate(rand_paths):\n",
    "    im = np.asarray(Image.open(image_path))\n",
    "    plt.subplot(3,10,i+1)\n",
    "    plt.imshow(im,cmap='gray')\n",
    "    plt.axis('off')\n",
    "    \n",
    "plt.show()"
   ]
  },
  {
   "cell_type": "code",
   "execution_count": null,
   "metadata": {},
   "outputs": [],
   "source": []
  }
 ],
 "metadata": {
  "kernelspec": {
   "display_name": "base",
   "language": "python",
   "name": "python3"
  },
  "language_info": {
   "codemirror_mode": {
    "name": "ipython",
    "version": 3
   },
   "file_extension": ".py",
   "mimetype": "text/x-python",
   "name": "python",
   "nbconvert_exporter": "python",
   "pygments_lexer": "ipython3",
   "version": "3.9.12"
  },
  "orig_nbformat": 4
 },
 "nbformat": 4,
 "nbformat_minor": 2
}
