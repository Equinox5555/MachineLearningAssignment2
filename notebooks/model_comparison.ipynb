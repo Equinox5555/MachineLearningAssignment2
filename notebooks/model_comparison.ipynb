{
 "cells": [
  {
   "cell_type": "code",
   "execution_count": 3,
   "metadata": {},
   "outputs": [],
   "source": [
    "import sys\n",
    "sys.path.append('../src')\n",
    "\n",
    "import evaluate"
   ]
  },
  {
   "attachments": {},
   "cell_type": "markdown",
   "metadata": {},
   "source": [
    "#### Model Evaluation Functions:\n",
    "\n",
    "a. evaluate_model():\n",
    "This function evaluates the performance of a trained model on a test set by computing various metrics such as accuracy, precision, recall, F1-score, and confusion matrix.\n",
    "\n",
    "b. plot_history():\n",
    "This function plots the training and validation loss and accuracy curves of a model over epochs to visualize its learning progress.\n",
    "\n",
    "c. save_model():\n",
    "This function saves a trained model and its weights to a file for future use or deployment."
   ]
  }
 ],
 "metadata": {
  "kernelspec": {
   "display_name": "base",
   "language": "python",
   "name": "python3"
  },
  "language_info": {
   "codemirror_mode": {
    "name": "ipython",
    "version": 3
   },
   "file_extension": ".py",
   "mimetype": "text/x-python",
   "name": "python",
   "nbconvert_exporter": "python",
   "pygments_lexer": "ipython3",
   "version": "3.9.12"
  },
  "orig_nbformat": 4
 },
 "nbformat": 4,
 "nbformat_minor": 2
}
