{
 "cells": [
  {
   "cell_type": "markdown",
   "metadata": {},
   "source": [
    "Model Evaluation and Comparison:\n",
    "\n",
    "- Use different evaluation metrics such as accuracy, precision, recall, and F1-score to assess the performance of the models.\n",
    "- Compare the performance of the different models on both tasks, isCancerous and cell-type classification.\n",
    "- Explore the use of the extra data provided in the Dataset_extra to improve the performance of the cell-type classification model and compare the results with the model trained on the main dataset."
   ]
  },
  {
   "cell_type": "markdown",
   "metadata": {},
   "source": [
    "Visualization:\n",
    "- Visualize the classification results using confusion matrices, ROC curves, and precision-recall curves.\n",
    "- Use activation maps or saliency maps to visualize the regions of the images that are important for the classification decision."
   ]
  },
  {
   "cell_type": "code",
   "execution_count": 1,
   "metadata": {},
   "outputs": [],
   "source": [
    "data_process = \"data/processed\"\n",
    "data_final = \"data/final/predictions.pkl\""
   ]
  },
  {
   "cell_type": "code",
   "execution_count": null,
   "metadata": {},
   "outputs": [],
   "source": [
    "import joblib \n",
    "import pandas as pd \n",
    "from sklearn.metrics import confusion_matrix\n",
    "import joblib\n",
    "\n",
    "y_pred = joblib.load(data_process)['y_test']\n",
    "predictions = joblib.load(data_final)\n",
    "confusion_matrix(y_pred, predictions)\n"
   ]
  }
 ],
 "metadata": {
  "kernelspec": {
   "display_name": "base",
   "language": "python",
   "name": "python3"
  },
  "language_info": {
   "codemirror_mode": {
    "name": "ipython",
    "version": 3
   },
   "file_extension": ".py",
   "mimetype": "text/x-python",
   "name": "python",
   "nbconvert_exporter": "python",
   "pygments_lexer": "ipython3",
   "version": "3.9.12"
  },
  "orig_nbformat": 4
 },
 "nbformat": 4,
 "nbformat_minor": 2
}
