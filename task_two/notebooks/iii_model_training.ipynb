{
 "cells": [
  {
   "cell_type": "markdown",
   "metadata": {},
   "source": [
    "Model Training:\n",
    "- Split the data into training, validation, and testing sets.\n",
    "- Train different machine learning models such as Convolutional Neural Networks (CNNs), Support Vector Machines (SVMs), Random Forests, and Logistic Regression on the training set.\n",
    "- Fine-tune the hyperparameters of the models using the validation set to improve their performance.\n",
    "- Evaluate the models on the testing set to compare their performance."
   ]
  },
  {
   "cell_type": "markdown",
   "metadata": {},
   "source": [
    "# Splitting data"
   ]
  },
  {
   "cell_type": "code",
   "execution_count": 1,
   "metadata": {},
   "outputs": [],
   "source": [
    "from sklearn.model_selection import train_test_split\n",
    "\n",
    "import pandas as pd\n",
    "import numpy as np\n",
    "import matplotlib as plt\n",
    "import seaborn as sns"
   ]
  },
  {
   "cell_type": "code",
   "execution_count": 2,
   "metadata": {},
   "outputs": [],
   "source": [
    "dataset_main = pd.read_csv(\"../../data/raw/data_labels_mainData.csv\")\n",
    "dataset_extra = pd.read_csv(\"../../data/raw/data_labels_extraData.csv\")"
   ]
  },
  {
   "cell_type": "code",
   "execution_count": 8,
   "metadata": {},
   "outputs": [],
   "source": [
    "dataset_main_X = dataset_main.drop(columns=[\"cellTypeName\", \"cellType\", \"isCancerous\"])"
   ]
  },
  {
   "cell_type": "code",
   "execution_count": 11,
   "metadata": {},
   "outputs": [],
   "source": [
    "X_train, X_test, y_train, y_test = train_test_split(dataset_main_X, dataset_main[\"cellType\"], test_size = 0.2, random_state = 0)\n",
    "X_train, X_val, y_train, y_val = train_test_split(X_train, y_train, test_size = 0.25, random_state = 0)"
   ]
  },
  {
   "cell_type": "code",
   "execution_count": 17,
   "metadata": {
    "scrolled": true
   },
   "outputs": [
    {
     "name": "stdout",
     "output_type": "stream",
     "text": [
      "Shape of X_train: (5937, 3)\n",
      "Shape of X_Val: (1979, 3)\n",
      "Shape of X_test: (1980, 3)\n"
     ]
    }
   ],
   "source": [
    "print(\"Shape of X_train:\", X_train.shape)\n",
    "print(\"Shape of X_Val:\", X_val.shape)\n",
    "print(\"Shape of X_test:\", X_test.shape)"
   ]
  },
  {
   "cell_type": "markdown",
   "metadata": {},
   "source": [
    "Description of things to do:\n",
    "- Import images and convert to either RGB or Greyscale\n",
    "- Normalise the images\n",
    "- Call the NN model or other models\n",
    "- specify the structure of the model\n",
    "- input the train images to the model\n",
    "- fit val and predict val y\n",
    "- pass the evaluation to model evaluation\n",
    "\n",
    "- Repeat for other models if necessary"
   ]
  },
  {
   "cell_type": "code",
   "execution_count": null,
   "metadata": {},
   "outputs": [],
   "source": []
  }
 ],
 "metadata": {
  "kernelspec": {
   "display_name": "Python 3 (ipykernel)",
   "language": "python",
   "name": "python3"
  },
  "language_info": {
   "codemirror_mode": {
    "name": "ipython",
    "version": 3
   },
   "file_extension": ".py",
   "mimetype": "text/x-python",
   "name": "python",
   "nbconvert_exporter": "python",
   "pygments_lexer": "ipython3",
   "version": "3.10.11"
  }
 },
 "nbformat": 4,
 "nbformat_minor": 2
}
